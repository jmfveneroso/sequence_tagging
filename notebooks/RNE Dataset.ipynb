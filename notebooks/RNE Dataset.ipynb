{
 "cells": [
  {
   "cell_type": "markdown",
   "metadata": {},
   "source": [
    "### Researcher Name Extraction Dataset"
   ]
  },
  {
   "cell_type": "code",
   "execution_count": null,
   "metadata": {},
   "outputs": [],
   "source": [
    "%matplotlib inline\n",
    "import matplotlib\n",
    "import numpy as np\n",
    "import matplotlib.pyplot as plt\n",
    "from collections import Counter\n",
    "\n",
    "def plot_word_frequency(directory, color):\n",
    "    my_counter = Counter()\n",
    "    for fname in ['train', 'valid', 'test']:\n",
    "        with open(directory + '/' + fname) as f:\n",
    "            words = [line.strip().lower().split()[0] for line in f if len(line.strip()) > 0]\n",
    "            words = [w for w in words if w != '-docstart-']\n",
    "            my_counter.update(words)\n",
    "\n",
    "    data = [(key, my_counter[key]) for key in my_counter]    \n",
    "    data.sort(key=lambda x: x[1], reverse=True)\n",
    "    \n",
    "    print([(i, x[1]) for i, x in enumerate(data)][:100])\n",
    "    plt.plot([x[1] for x in data][:100], color)\n",
    "    return data[:50]\n",
    "    \n",
    "plt.title('Word frequencies')\n",
    "data1 = plot_word_frequency('../data/conll2003', 'r')\n",
    "data2 = plot_word_frequency('../data/ner_on_html', 'b')\n",
    "\n",
    "print(' '.join([d[0] for d in data1[:10]]))\n",
    "print()\n",
    "print(' '.join([d[0] for d in data2[:10]]))\n",
    "\n",
    "for d1, d2 in zip(data1, data2):\n",
    "    print('%s & %d & %s & %d' % (d1[0], d1[1], d2[0], d2[1]))"
   ]
  },
  {
   "cell_type": "code",
   "execution_count": null,
   "metadata": {},
   "outputs": [],
   "source": [
    "import pandas as pd\n",
    "from dython import nominal\n",
    "\n",
    "def load_raw_dataset(f):\n",
    "    with open(f, 'r', encoding='utf8') as f:\n",
    "        data = f.read().strip()\n",
    "        sentences = [s.split('\\n') for s in data.split('\\n\\n') if not s.startswith('-DOCSTART-')]\n",
    "        X = [t.split(' ') for s in sentences for t in s if len(s) > 0]\n",
    "        for i, s in enumerate(X):\n",
    "            X[i] = X[i][2:5] + X[i][7:]\n",
    "        return X\n",
    "\n",
    "X = load_raw_dataset('../data/ner_on_html/train')\n",
    "X += load_raw_dataset('../data/ner_on_html/valid')\n",
    "X += load_raw_dataset('../data/ner_on_html/test')\n",
    "\n",
    "data = {}\n",
    "data['words']         = [x[0 ] for x in X]\n",
    "data['exact_match']   = [int(x[1]) for x in X]\n",
    "data['partial_match'] = [int(x[2]) for x in X]\n",
    "data['email']         = [int(x[3]) for x in X]\n",
    "data['number']        = [int(x[4]) for x in X]\n",
    "data['honorific']     = [int(x[5]) for x in X] \n",
    "data['url']           = [int(x[6]) for x in X]\n",
    "data['capitalized']   = [int(x[7]) for x in X]\n",
    "data['punctuation']   = [int(x[8]) for x in X]\n",
    "data['html_tag']      = [x[9 ] for x in X]\n",
    "data['css_class']     = [x[10] for x in X]\n",
    "\n",
    "data['words'][0]\n",
    "df = pd.DataFrame(data)\n",
    "\n",
    "nominal.associations(df, nominal_columns=['words','html_tag', 'css_class'])"
   ]
  },
  {
   "cell_type": "markdown",
   "metadata": {},
   "source": [
    "### How to do it: https://github.com/shakedzy/dython/issues/2\n",
    "\n",
    "Calculates Cramer's V statistic for categorical-categorical association.\n",
    "Uses correction from Bergsma and Wicher, Journal of the Korean Statistical Society 42 (2013): 323-328.\n",
    "This is a symmetric coefficient: V(x,y) = V(y,x)\n",
    "\n",
    "https://github.com/shakedzy/dython/blob/master/dython/nominal.py\n",
    "https://en.wikipedia.org/wiki/Cram%C3%A9r%27s_V"
   ]
  },
  {
   "cell_type": "markdown",
   "metadata": {},
   "source": [
    "### Nested cross-validation\n",
    "\n",
    "5-fold cross validation\n",
    "\n",
    "\n",
    "Partition the training data randomly in five folds\n",
    "\n",
    "Nested CV\n",
    "https://scikit-learn.org/stable/auto_examples/model_selection/plot_nested_cross_validation_iris.html\n",
    "\n",
    "Common error with cross validation\n",
    "https://www.youtube.com/watch?v=S06JpVoNaA0\n",
    "\n",
    "https://www.kdnuggets.com/2017/08/dataiku-predictive-model-holdout-cross-validation.html\n",
    "\n",
    "https://www.datarobot.com/wiki/training-validation-holdout/"
   ]
  },
  {
   "cell_type": "markdown",
   "metadata": {},
   "source": [
    "### Naive bayes"
   ]
  },
  {
   "cell_type": "code",
   "execution_count": 24,
   "metadata": {},
   "outputs": [
    {
     "name": "stdout",
     "output_type": "stream",
     "text": [
      "Fitting...\n",
      "Fold size: 6694\n",
      "[[['Staff', 'staff', '0', '1', '2', '7', '0', '0', '0', '0', '1', '0', 'a.li', 'menu-item.menu-item-type-post_type.menu-item-object-page.menu-item-766']], [['Ph.D.', 'ph.d.', '0', '0', '0', '0', '0', '0', '1', '0', '1', '0', 'div.div', ''], ['Electrical', 'electrical', '0', '0', '0', '4', '0', '0', '0', '0', '1', '0', 'div.div', ''], ['and', 'and', '0', '1', '0', '10', '0', '0', '0', '0', '0', '0', 'div.div', ''], ['Computer', 'computer', '0', '0', '0', '7', '0', '0', '0', '0', '1', '0', 'div.div', ''], ['Engineering', 'engineering', '0', '0', '0', '7', '0', '0', '0', '0', '1', '0', 'div.div', ''], [',', ',', '0', '1', '0', '0', '0', '0', '0', '0', '0', '1', 'div.div', ''], ['Auburn', 'auburn', '0', '1', '1', '2', '0', '0', '0', '0', '1', '0', 'div.div', ''], ['University', 'university', '0', '1', '1', '8', '0', '0', '0', '0', '1', '0', 'div.div', '']], [['Education', 'education', '0', '0', '0', '8', '0', '0', '0', '0', '1', '0', 'li.ul', 'megaChild-inner-nav-list']], [['Graduate', 'graduate', '0', '1', '0', '6', '0', '0', '0', '0', '1', '0', 'ul.div', 'item-list'], ['Assistant', 'assistant', '0', '0', '0', '6', '0', '0', '0', '0', '1', '0', 'ul.div', 'item-list'], ['-', '-', '0', '1', '12', '0', '0', '0', '0', '0', '0', '1', 'ul.div', 'item-list'], ['Teaching', 'teaching', '0', '0', '0', '6', '0', '0', '0', '0', '1', '0', 'ul.div', 'item-list']], [['Role', 'role', '0', '1', '1', '6', '0', '0', '0', '0', '1', '0', 'tr.table', 'full.columns']], [['soiccsgr@indiana.edu', 'soiccsgr@indiana.edu', '0', '0', '0', '0', '1', '0', '0', '0', '0', '0', 'p.li', 'small.contact']], [['Prof.', 'prof.', '0', '1', '0', '0', '0', '0', '1', '0', '1', '0', 'p.div', 'editor-content'], ['Dr.', 'dr.', '0', '0', '0', '0', '0', '0', '1', '0', '1', '0', 'p.div', 'editor-content'], ['-', '-', '0', '1', '12', '0', '0', '0', '0', '0', '0', '1', 'p.div', 'editor-content'], ['Ing.', 'ing.', '0', '1', '1', '0', '0', '0', '1', '0', '1', '0', 'p.div', 'editor-content'], ['Klaus', 'klaus', '0', '1', '7', '3', '0', '0', '0', '0', '1', '0', 'p.div', 'editor-content'], ['-', '-', '0', '1', '12', '0', '0', '0', '0', '0', '0', '1', 'p.div', 'editor-content'], ['Peter', 'peter', '0', '1', '9', '6', '0', '0', '0', '0', '1', '0', 'p.div', 'editor-content'], ['Löhr', 'lohr', '0', '1', '2', '0', '0', '0', '0', '0', '1', '0', 'p.div', 'editor-content'], ['(', '(', '0', '1', '6', '0', '0', '0', '0', '0', '0', '1', 'p.div', 'editor-content'], ['a.D.', 'a.d.', '0', '0', '0', '0', '0', '0', '1', '0', '0', '0', 'p.div', 'editor-content'], [')', ')', '0', '1', '6', '0', '0', '0', '0', '0', '0', '1', 'p.div', 'editor-content']], [['Doctor', 'doctor', '0', '1', '3', '3', '0', '0', '0', '0', '1', '0', 'p.hr', 'block_content'], [',', ',', '0', '1', '0', '0', '0', '0', '0', '0', '0', '1', 'p.hr', 'block_content'], ['Phyllis', 'phyllis', '0', '1', '4', '3', '0', '0', '0', '0', '1', '0', 'p.hr', 'block_content'], ['(', '(', '0', '1', '6', '0', '0', '0', '0', '0', '0', '1', 'p.hr', 'block_content'], ['1977', '1977', '0', '0', '0', '0', '0', '1', '0', '0', '0', '0', 'p.hr', 'block_content'], [')', ')', '0', '1', '6', '0', '0', '0', '0', '0', '0', '1', 'p.hr', 'block_content']], [['ISHIKAWA', 'ishikawa', '0', '0', '0', '0', '0', '0', '0', '0', '1', '0', 'td.tr', 'category'], [',', ',', '0', '1', '0', '0', '0', '0', '0', '0', '0', '1', 'td.tr', 'category'], ['Yoshiharu', 'yoshiharu', '0', '1', '4', '0', '0', '0', '0', '0', '1', '0', 'td.tr', 'category'], ['Professor', 'professor', '0', '0', '0', '7', '0', '0', '1', '0', '1', '0', 'tr.table', 'category'], ['3306', '3306', '0', '0', '0', '0', '0', '1', '0', '0', '0', '0', 'tr.table', 'category'], ['ishikawa', 'ishikawa', '0', '0', '0', '0', '0', '0', '0', '0', '0', '0', 'tr.table', 'category'], ['Databases', 'databases', '0', '0', '0', '4', '0', '0', '0', '0', '1', '0', 'tr.table', 'textleft']], [['Undergraduate', 'undergraduate', '0', '0', '0', '5', '0', '0', '0', '0', '1', '0', 'div.li', 'ipf-parent']]]\n",
      "[[0], [0, 0, 0, 0, 0, 0, 0, 0], [0], [0, 0, 0, 0], [0], [0], [0, 0, 0, 0, 2, 2, 2, 2, 0, 0, 0], [2, 2, 2, 0, 0, 0], [2, 2, 2, 0, 0, 0, 0], [0]]\n",
      "[[['You', 'you', '0', '1', '7', '8', '0', '0', '0', '0', '1', '0', 'ul.div', 'crumbs'], ['are', 'are', '0', '0', '0', '8', '0', '0', '0', '0', '0', '0', 'ul.div', 'crumbs'], ['in', 'in', '0', '1', '3', '10', '0', '0', '0', '0', '0', '0', 'ul.div', 'crumbs'], [':', ':', '0', '1', '0', '0', '0', '0', '0', '0', '0', '1', 'ul.div', 'crumbs']], [['Academic', 'academic', '0', '0', '0', '8', '0', '0', '0', '0', '1', '0', 'li.ul', '.'], ['Programs', 'programs', '0', '0', '0', '8', '0', '0', '0', '0', '1', '0', 'li.ul', '.']], [['(', '(', '0', '1', '6', '0', '0', '0', '0', '0', '0', '1', 'div.div', 'sites-layout-tile.sites-tile-name-content-1'], ['Distinguished', 'distinguished', '0', '0', '0', '5', '0', '0', '0', '0', '1', '0', 'span.div', 'sites-layout-tile.sites-tile-name-content-1'], ['Professor', 'professor', '0', '0', '0', '7', '0', '0', '1', '0', '1', '0', 'span.div', 'sites-layout-tile.sites-tile-name-content-1'], [')', ')', '1', '1', '6', '0', '0', '0', '0', '0', '0', '1', 'div.div', 'sites-layout-tile.sites-tile-name-content-1']], [['I', 'i', '0', '1', '6', '10', '0', '0', '0', '0', '1', '0', 'li.ul', 'local']], [['E', 'e', '0', '1', '4', '10', '0', '0', '0', '0', '1', '0', 'div.div', 'kisiler-bilgi-baslik'], ['-', '-', '0', '1', '12', '0', '0', '0', '0', '0', '0', '1', 'div.div', 'kisiler-bilgi-baslik'], ['Mail', 'mail', '0', '1', '0', '6', '0', '0', '0', '0', '1', '0', 'div.div', 'kisiler-bilgi-baslik'], [':', ':', '0', '1', '0', '0', '0', '0', '0', '0', '0', '1', 'div.div', 'kisiler-bilgi-baslik']], [['Email', 'email', '0', '0', '0', '6', '0', '0', '0', '0', '1', '0', 'div.div', 'Custom_UnionStyle'], [':', ':', '0', '1', '0', '0', '0', '0', '0', '0', '0', '1', 'div.div', 'Custom_UnionStyle'], ['qlzheng@ustc.edu.cn', 'qlzheng@ustc.edu.cn', '0', '0', '0', '0', '1', '0', '0', '0', '0', '0', 'div.div', 'Custom_UnionStyle']], [['►', '►', '0', '0', '0', '0', '0', '0', '0', '0', '0', '0', 'div.div', 'Custom_UnionStyle'], ['ZENG', 'zeng', '0', '0', '0', '1', '0', '0', '0', '0', '1', '0', 'a.div', 'Custom_UnionStyle'], [',', ',', '0', '1', '0', '0', '0', '0', '0', '0', '0', '1', 'a.div', 'Custom_UnionStyle'], ['Fanping', 'fanping', '0', '1', '2', '0', '0', '0', '0', '0', '1', '0', 'a.div', 'Custom_UnionStyle'], ['(', '(', '0', '1', '6', '0', '0', '0', '0', '0', '0', '1', 'div.div', 'Custom_UnionStyle'], ['Associate', 'associate', '0', '1', '0', '6', '0', '0', '0', '0', '1', '0', 'div.div', 'Custom_UnionStyle'], ['Professor', 'professor', '0', '0', '0', '7', '0', '0', '1', '0', '1', '0', 'div.div', 'Custom_UnionStyle'], [')', ')', '0', '1', '6', '0', '0', '0', '0', '0', '0', '1', 'div.div', 'Custom_UnionStyle']], [['M.Ed.', 'm.ed.', '0', '0', '0', '0', '0', '0', '0', '0', '1', '0', 'hr.td', 'block_content'], [',', ',', '0', '1', '0', '0', '0', '0', '0', '0', '0', '1', 'hr.td', 'block_content'], ['Western', 'western', '0', '1', '2', '7', '0', '0', '0', '0', '1', '0', 'hr.td', 'block_content'], ['Washington', 'washington', '0', '1', '4', '6', '0', '0', '0', '0', '1', '0', 'hr.td', 'block_content'], ['University', 'university', '0', '1', '1', '8', '0', '0', '0', '0', '1', '0', 'hr.td', 'block_content']], [['O', 'o', '0', '1', '4', '10', '0', '0', '0', '0', '1', '0', 'div.div', 'views-label.views-label-field-location'], [':', ':', '0', '1', '0', '0', '0', '0', '0', '0', '0', '1', 'div.div', 'views-label.views-label-field-location'], ['250', '250', '0', '0', '0', '0', '0', '1', '0', '0', '0', '0', 'div.div', 'field-content'], ['CS', 'cs', '0', '0', '0', '5', '0', '0', '0', '0', '1', '0', 'div.div', 'field-content'], ['Building', 'building', '0', '0', '0', '5', '0', '0', '0', '0', '1', '0', 'div.div', 'field-content']], [['Advanced', 'advanced', '0', '0', '0', '5', '0', '0', '0', '0', '1', '0', 'li.ul', 'study-areas'], ['Computing', 'computing', '0', '0', '0', '6', '0', '0', '0', '0', '1', '0', 'li.ul', 'study-areas'], ['Research', 'research', '0', '1', '0', '7', '0', '0', '0', '0', '1', '0', 'li.ul', 'study-areas'], ['Centre', 'centre', '0', '1', '0', '7', '0', '0', '0', '0', '1', '0', 'li.ul', 'study-areas']]]\n",
      "[[0, 0, 0, 0], [0, 0], [0, 0, 0, 0], [0], [0, 0, 0, 0], [0, 0, 0], [0, 2, 2, 2, 0, 0, 0, 0], [0, 0, 0, 0, 0], [0, 0, 0, 0, 0], [0, 0, 0, 0]]\n",
      "[[['Confer', 'confer', '0', '1', '0', '0', '0', '0', '0', '0', '1', '0', 'p.hr', 'block_content'], [',', ',', '0', '1', '0', '0', '0', '0', '0', '0', '0', '1', 'p.hr', 'block_content'], ['Shirley', 'shirley', '0', '1', '5', '4', '0', '0', '0', '0', '1', '0', 'p.hr', 'block_content']], [['Abugaliev', 'abugaliev', '0', '0', '0', '0', '0', '0', '0', '0', '1', '0', 'div.div', 'link.link_dark.large.b'], [',', ',', '0', '1', '0', '0', '0', '0', '0', '0', '0', '1', 'div.div', 'link.link_dark.large.b'], ['Renat', 'renat', '0', '1', '3', '0', '0', '0', '0', '0', '1', '0', 'div.div', 'link.link_dark.large.b']], [['408', '408', '0', '0', '0', '0', '0', '1', '0', '0', '0', '0', 'td.tr', 'table'], ['-', '-', '0', '1', '12', '0', '0', '0', '0', '0', '0', '1', 'td.tr', 'table'], ['554', '554', '0', '0', '0', '0', '0', '1', '0', '0', '0', '0', 'td.tr', 'table'], ['-', '-', '0', '1', '12', '0', '0', '0', '0', '0', '0', '1', 'td.tr', 'table'], ['6894', '6894', '0', '0', '0', '0', '0', '1', '0', '0', '0', '0', 'td.tr', 'table']], [['ueda', 'ueda', '0', '0', '0', '1', '0', '0', '0', '0', '0', '0', 'div.div', 'sites-layout-tile.sites-tile-name-footer']], [['Bertram', 'bertram', '0', '1', '5', '2', '0', '0', '0', '0', '1', '0', 'td.tr', 'link'], ['SHI', 'shi', '0', '0', '0', '3', '0', '0', '0', '0', '1', '0', 'td.tr', 'link'], ['施', '施', '0', '0', '0', '0', '0', '0', '0', '0', '0', '0', 'tr.table', 'ppl-list'], ['毅', '毅', '0', '0', '0', '0', '0', '0', '0', '0', '0', '0', 'tr.table', 'ppl-list'], ['明', '明', '0', '0', '0', '0', '0', '0', '0', '0', '0', '0', 'tr.table', 'ppl-list'], ['Department', 'department', '0', '0', '0', '7', '0', '0', '0', '0', '1', '0', 'tr.table', 'ppl-list'], ['Head', 'head', '0', '1', '4', '5', '0', '0', '0', '0', '1', '0', 'tr.table', 'ppl-list'], ['and', 'and', '0', '1', '0', '10', '0', '0', '0', '0', '0', '0', 'tr.table', 'ppl-list'], ['Professor', 'professor', '0', '0', '0', '7', '0', '0', '1', '0', '1', '0', 'tr.table', 'ppl-list'], ['7079', '7079', '0', '0', '0', '0', '0', '1', '0', '0', '0', '0', 'tr.table', 'ppl-list'], ['eebert', 'eebert', '0', '0', '0', '0', '0', '0', '0', '0', '0', '0', 'td.tr', 'link'], ['2460', '2460', '0', '0', '0', '0', '0', '1', '0', '0', '0', '0', 'tr.table', 'ppl-list'], ['Biomedical', 'biomedical', '0', '0', '0', '3', '0', '0', '0', '0', '1', '0', 'td.tr', 'ppl-list'], ['Engineering', 'engineering', '0', '0', '0', '7', '0', '0', '0', '0', '1', '0', 'td.tr', 'ppl-list'], ['(', '(', '0', '1', '6', '0', '0', '0', '0', '0', '0', '1', 'td.tr', 'ppl-list'], ['BME', 'bme', '0', '0', '0', '0', '0', '0', '0', '0', '1', '0', 'td.tr', 'ppl-list'], [')', ')', '0', '1', '6', '0', '0', '0', '0', '0', '0', '1', 'td.tr', 'ppl-list']], [['Firefighter', 'firefighter', '0', '0', '0', '0', '0', '0', '0', '0', '1', '0', 'p.hr', 'block_content'], ['Training', 'training', '0', '0', '0', '6', '0', '0', '0', '0', '1', '0', 'p.hr', 'block_content']], [['Ph.D.', 'ph.d.', '0', '0', '0', '0', '0', '0', '1', '0', '1', '0', 'p.td', 'listing'], [',', ',', '0', '1', '0', '0', '0', '0', '0', '0', '0', '1', 'p.td', 'listing'], ['Universität', 'universitat', '0', '0', '0', '5', '0', '0', '0', '0', '1', '0', 'p.td', 'listing'], ['Graz', 'graz', '0', '1', '0', '2', '0', '0', '0', '0', '1', '0', 'p.td', 'listing'], [',', ',', '0', '1', '0', '0', '0', '0', '0', '0', '0', '1', 'p.td', 'listing'], ['Graz', 'graz', '0', '1', '0', '2', '0', '0', '0', '0', '1', '0', 'p.td', 'listing'], [',', ',', '0', '1', '0', '0', '0', '0', '0', '0', '0', '1', 'p.td', 'listing'], ['Austria', 'austria', '0', '1', '1', '4', '0', '0', '0', '0', '1', '0', 'p.td', 'listing'], [',', ',', '0', '1', '0', '0', '0', '0', '0', '0', '0', '1', 'p.td', 'listing'], ['June', 'june', '0', '1', '5', '6', '0', '0', '0', '0', '1', '0', 'p.td', 'listing'], ['1981', '1981', '0', '0', '0', '0', '0', '1', '0', '0', '0', '0', 'p.td', 'listing']], [['Publications', 'publications', '0', '0', '0', '6', '0', '0', '0', '0', '1', '0', 'li.ul', 'active-submenu']], [['Survey', 'survey', '0', '1', '0', '4', '0', '0', '0', '0', '1', '0', 'a.div', 'main-title'], ['of', 'of', '0', '1', '2', '10', '0', '0', '0', '0', '0', '0', 'a.div', 'main-title'], ['Research', 'research', '0', '1', '0', '7', '0', '0', '0', '0', '1', '0', 'a.div', 'main-title'], ['Activities', 'activities', '0', '0', '0', '5', '0', '0', '0', '0', '1', '0', 'a.div', 'main-title']], [['YOKOTA', 'yokota', '0', '0', '0', '0', '0', '0', '0', '0', '1', '0', 'td.tr', 'people'], ['Haruo', 'haruo', '0', '1', '4', '0', '0', '0', '0', '0', '1', '0', 'td.tr', 'people'], ['W8E', 'w8e', '0', '0', '0', '0', '0', '1', '0', '0', '1', '0', 'tr.table', 'people'], ['-', '-', '0', '1', '12', '0', '0', '0', '0', '0', '0', '1', 'tr.table', 'people'], ['705', '705', '0', '0', '0', '0', '0', '1', '0', '0', '0', '0', 'tr.table', 'people'], ['3505', '3505', '0', '0', '0', '0', '0', '1', '0', '0', '0', '0', 'tr.table', 'people'], ['yokota@de.cs.', 'yokota@de.cs.', '0', '0', '0', '0', '1', '0', '0', '0', '0', '0', 'tr.table', 'people'], ['W8', 'w8', '0', '0', '0', '0', '0', '1', '0', '0', '1', '0', 'tr.table', 'people'], ['-', '-', '0', '1', '12', '0', '0', '0', '0', '0', '0', '1', 'tr.table', 'people'], ['82', '82', '0', '0', '0', '0', '0', '1', '0', '0', '0', '0', 'tr.table', 'people']]]\n",
      "[[2, 2, 2], [2, 2, 2], [0, 0, 0, 0, 0], [0], [2, 2, 0, 0, 0, 0, 0, 0, 0, 0, 0, 0, 0, 0, 0, 0, 0], [0, 0], [0, 0, 0, 0, 0, 0, 0, 0, 0, 0, 0], [0], [0, 0, 0, 0], [2, 2, 0, 0, 0, 0, 0, 0, 0, 0]]\n",
      "[[['079', '079', '0', '0', '0', '0', '0', '1', '0', '0', '0', '0', 'div.div', 'room'], ['-', '-', '0', '1', '12', '0', '0', '0', '0', '0', '0', '1', 'div.div', 'room'], ['00', '00', '0', '0', '0', '0', '0', '1', '0', '0', '0', '0', 'div.div', 'room'], ['-', '-', '0', '1', '12', '0', '0', '0', '0', '0', '0', '1', 'div.div', 'room'], ['010', '010', '0', '0', '0', '0', '0', '1', '0', '0', '0', '0', 'div.div', 'room']], [['Preslar', 'preslar', '0', '0', '0', '0', '0', '0', '0', '0', '1', '0', 'td.tr', 'field-item.even'], [',', ',', '0', '1', '0', '0', '0', '0', '0', '0', '0', '1', 'td.tr', 'field-item.even'], ['Melissa', 'melissa', '0', '1', '6', '3', '0', '0', '0', '0', '1', '0', 'td.tr', 'field-item.even'], ['(', '(', '0', '1', '6', '0', '0', '0', '0', '0', '0', '1', 'tr.tr', 'field-item.even'], ['704', '704', '0', '0', '0', '0', '0', '1', '0', '0', '0', '0', 'tr.tr', 'field-item.even'], [')', ')', '0', '1', '6', '0', '0', '0', '0', '0', '0', '1', 'tr.tr', 'field-item.even'], ['991', '991', '0', '0', '0', '0', '0', '1', '0', '0', '0', '0', 'tr.tr', 'field-item.even'], ['-', '-', '0', '1', '12', '0', '0', '0', '0', '0', '0', '1', 'tr.tr', 'field-item.even'], ['0115', '0115', '0', '0', '0', '0', '0', '1', '0', '0', '0', '0', 'tr.tr', 'field-item.even'], ['Patterson', 'patterson', '0', '1', '5', '2', '0', '0', '0', '0', '1', '0', 'tr.tr', 'field-item.even'], ['Building', 'building', '0', '0', '0', '5', '0', '0', '0', '0', '1', '0', 'tr.tr', 'field-item.even'], [',', ',', '0', '1', '0', '0', '0', '0', '0', '0', '0', '1', 'tr.tr', 'field-item.even'], ['Eagles', 'eagles', '0', '1', '1', '1', '0', '0', '0', '0', '1', '0', 'tr.tr', 'field-item.even'], ['1', '1', '0', '0', '0', '0', '0', '1', '0', '0', '0', '0', 'tr.tr', 'field-item.even'], ['-', '-', '0', '1', '12', '0', '0', '0', '0', '0', '0', '1', 'tr.tr', 'field-item.even'], ['Stop', 'stop', '0', '1', '0', '4', '0', '0', '0', '0', '1', '0', 'tr.tr', 'field-item.even'], ['Financial', 'financial', '0', '0', '0', '7', '0', '0', '0', '0', '1', '0', 'tr.tr', 'field-item.even'], ['Aid', 'aid', '0', '1', '1', '7', '0', '0', '0', '0', '1', '0', 'tr.tr', 'field-item.even'], ['Associate', 'associate', '0', '1', '0', '6', '0', '0', '0', '0', '1', '0', 'tr.tr', 'field-item.even'], ['I', 'i', '0', '1', '6', '10', '0', '0', '0', '0', '1', '0', 'tr.tr', 'field-item.even']], [['internet', 'internet', '0', '0', '0', '6', '0', '0', '0', '0', '0', '0', 'ul.div', 'leading-4'], ['distributed', 'distributed', '0', '0', '0', '4', '0', '0', '0', '0', '0', '0', 'ul.div', 'leading-4'], ['systems', 'systems', '0', '0', '0', '6', '0', '0', '0', '0', '0', '0', 'ul.div', 'leading-4'], [';', ';', '0', '1', '0', '0', '0', '0', '0', '0', '0', '1', 'ul.div', 'leading-4']], [['Executive', 'executive', '0', '0', '0', '5', '0', '0', '0', '0', '1', '0', 'li.ul', 'dropdown-menu'], ['Council', 'council', '0', '1', '0', '5', '0', '0', '0', '0', '1', '0', 'li.ul', 'dropdown-menu']], [['J', 'j', '0', '1', '2', '8', '0', '0', '0', '0', '1', '0', 'h2.div', 'underlined-text']], [['Chung', 'chung', '0', '1', '8', '3', '0', '0', '0', '0', '1', '0', 'strong.td', 'info'], ['-', '-', '0', '1', '12', '0', '0', '0', '0', '0', '0', '1', 'strong.td', 'info'], ['Nan', 'nan', '0', '1', '6', '4', '0', '0', '0', '0', '1', '0', 'strong.td', 'info'], ['Lee', 'lee', '0', '1', '9', '5', '0', '0', '0', '0', '1', '0', 'strong.td', 'info']], [['xw7@indiana.edu', 'xw7@indiana.edu', '0', '0', '0', '0', '1', '1', '0', '0', '0', '0', 'p.li', 'small.contact']], [['Chair', 'chair', '0', '1', '1', '5', '0', '0', '0', '0', '1', '0', 'p.dd', 'external-link'], ['XVIII', 'xviii', '0', '0', '0', '6', '0', '0', '0', '0', '1', '0', 'p.dd', 'external-link']], [['Giovanni', 'giovanni', '1', '1', '7', '4', '0', '0', '0', '0', '1', '0', 'p.li', 'name'], ['Luca', 'luca', '1', '1', '7', '2', '0', '0', '0', '0', '1', '0', 'p.li', 'name'], ['Ciampaglia', 'ciampaglia', '1', '1', '0', '0', '0', '0', '0', '0', '1', '0', 'p.li', 'name']], [['AA', 'aa', '0', '0', '0', '6', '0', '0', '0', '0', '1', '0', 'hr.td', 'block_content'], [',', ',', '0', '1', '0', '0', '0', '0', '0', '0', '0', '1', 'hr.td', 'block_content'], ['Olympic', 'olympic', '0', '0', '0', '3', '0', '0', '0', '0', '1', '0', 'hr.td', 'block_content'], ['College', 'college', '0', '0', '0', '8', '0', '0', '0', '0', '1', '0', 'hr.td', 'block_content']]]\n",
      "[[0, 0, 0, 0, 0], [2, 2, 2, 0, 0, 0, 0, 0, 0, 0, 0, 0, 0, 0, 0, 0, 0, 0, 0, 0], [0, 0, 0, 0], [0, 0], [0], [2, 2, 2, 2], [0], [0, 0], [2, 2, 2], [0, 0, 0, 0]]\n",
      "[[['Associate', 'associate', '0', '1', '0', '6', '0', '0', '0', '0', '1', '0', 'div.div', 'toggle'], ['Chairman', 'chairman', '0', '0', '0', '3', '0', '0', '0', '0', '1', '0', 'div.div', 'toggle'], ['and', 'and', '0', '1', '0', '10', '0', '0', '0', '0', '0', '0', 'div.div', 'toggle'], ['Associate', 'associate', '0', '1', '0', '6', '0', '0', '0', '0', '1', '0', 'div.div', 'toggle'], ['Professor', 'professor', '0', '0', '0', '7', '0', '0', '1', '0', '1', '0', 'div.div', 'toggle'], ['of', 'of', '0', '1', '2', '10', '0', '0', '0', '0', '0', '0', 'div.div', 'toggle'], ['Computer', 'computer', '0', '0', '0', '7', '0', '0', '0', '0', '1', '0', 'div.div', 'toggle'], ['Science', 'science', '0', '0', '0', '7', '0', '0', '0', '0', '1', '0', 'div.div', 'toggle']], [['Linthacum', 'linthacum', '0', '0', '0', '1', '0', '0', '0', '0', '1', '0', 'td.tr', 'name'], [',', ',', '0', '1', '0', '0', '0', '0', '0', '0', '0', '1', 'td.tr', 'name'], ['Darrell', 'darrell', '0', '1', '5', '1', '0', '0', '0', '0', '1', '0', 'td.tr', 'name'], ['Chemistry', 'chemistry', '0', '0', '0', '5', '0', '0', '0', '0', '1', '0', 'td.tr', 'faculty_title_link'], ['Instructor', 'instructor', '0', '0', '0', '7', '0', '0', '0', '0', '1', '0', 'td.tr', 'faculty_title_link'], ['Chemistry', 'chemistry', '0', '0', '0', '5', '0', '0', '0', '0', '1', '0', 'td.tr', 'department_link'], ['(', '(', '0', '1', '6', '0', '0', '0', '0', '0', '0', '1', 'tr.tbody', 'gradeA'], ['408', '408', '0', '0', '0', '0', '0', '1', '0', '0', '0', '0', 'tr.tbody', 'gradeA'], [')', ')', '0', '1', '6', '0', '0', '0', '0', '0', '0', '1', 'tr.tbody', 'gradeA'], ['741', '741', '0', '0', '0', '0', '0', '1', '0', '0', '0', '0', 'tr.tbody', 'gradeA'], ['-', '-', '0', '1', '12', '0', '0', '0', '0', '0', '0', '1', 'tr.tbody', 'gradeA'], ['2570', '2570', '0', '0', '0', '0', '0', '1', '0', '0', '0', '0', 'tr.tbody', 'gradeA'], ['docdhl@pacbell.net', 'docdhl@pacbell.net', '0', '0', '0', '0', '1', '0', '0', '0', '0', '0', 'td.tr', 'email_link']], [['E', 'e', '0', '1', '4', '10', '0', '0', '0', '0', '1', '0', 'tr.table', 'mail'], ['-', '-', '0', '1', '12', '0', '0', '0', '0', '0', '0', '1', 'tr.table', 'mail'], ['mail', 'mail', '0', '0', '0', '6', '0', '0', '0', '0', '0', '0', 'tr.table', 'mail']], [['ㆍㆍ', 'ㆍㆍ', '0', '0', '0', '0', '0', '0', '0', '0', '0', '0', 'a.li', 'bg'], ['NOAH', 'noah', '0', '0', '0', '3', '0', '0', '0', '0', '1', '0', 'li.ul', 'bg'], ['Board', 'board', '0', '1', '2', '6', '0', '0', '0', '0', '1', '0', 'li.ul', 'bg']], [['079', '079', '0', '0', '0', '0', '0', '1', '0', '0', '0', '0', 'div.div', 'room'], ['-', '-', '0', '1', '12', '0', '0', '0', '0', '0', '0', '1', 'div.div', 'room'], ['1015', '1015', '0', '0', '0', '0', '0', '1', '0', '0', '0', '0', 'div.div', 'room']], [['Mitglieder', 'mitglieder', '0', '0', '0', '0', '0', '0', '0', '0', '1', '0', 'li.ul', 'vlist-level-3']], [['Andraws', 'andraws', '1', '1', '1', '0', '0', '0', '0', '0', '1', '0', 'td.tr', 'field-item.even'], ['Swidan', 'swidan', '1', '1', '1', '0', '0', '0', '0', '0', '1', '0', 'td.tr', 'field-item.even'], [',', ',', '1', '1', '0', '0', '0', '0', '0', '0', '0', '1', 'td.tr', 'field-item.even'], ['Ph.D.', 'ph.d.', '0', '0', '0', '0', '0', '0', '1', '0', '1', '0', 'td.tr', 'field-item.even'], [',', ',', '0', '1', '0', '0', '0', '0', '0', '0', '0', '1', 'td.tr', 'field-item.even'], ['Electrotechnical', 'electrotechnical', '0', '0', '0', '0', '0', '0', '0', '0', '1', '0', 'td.tr', 'field-item.even'], ['Institute', 'institute', '0', '0', '0', '6', '0', '0', '0', '0', '1', '0', 'td.tr', 'field-item.even'], ['Leningrad', 'leningrad', '0', '0', '0', '1', '0', '0', '0', '0', '1', '0', 'td.tr', 'field-item.even']], [['â\\x80»Telephone', 'a\\x80»telephone', '0', '0', '0', '0', '0', '0', '0', '0', '0', '0', 'div.div', 'attention'], ['numbers', 'numbers', '0', '0', '0', '4', '0', '0', '0', '0', '0', '0', 'div.div', 'attention'], ['from', 'from', '0', '0', '0', '8', '0', '0', '0', '0', '0', '0', 'div.div', 'attention'], ['outside', 'outside', '0', '0', '0', '4', '0', '0', '0', '0', '0', '0', 'div.div', 'attention'], ['the', 'the', '0', '1', '0', '10', '0', '0', '0', '0', '0', '0', 'div.div', 'attention'], ['university', 'university', '0', '0', '0', '8', '0', '0', '0', '0', '0', '0', 'div.div', 'attention'], ['have', 'have', '0', '0', '0', '7', '0', '0', '0', '0', '0', '0', 'div.div', 'attention'], ['the', 'the', '0', '1', '0', '10', '0', '0', '0', '0', '0', '0', 'div.div', 'attention'], ['number', 'number', '0', '0', '0', '6', '0', '0', '0', '0', '0', '0', 'div.div', 'attention'], ['052', '052', '0', '0', '0', '0', '0', '1', '0', '0', '0', '0', 'div.div', 'attention'], ['-', '-', '0', '1', '12', '0', '0', '0', '0', '0', '0', '1', 'div.div', 'attention'], ['789', '789', '0', '0', '0', '0', '0', '1', '0', '0', '0', '0', 'div.div', 'attention'], ['before', 'before', '0', '0', '0', '5', '0', '0', '0', '0', '0', '0', 'div.div', 'attention'], ['the', 'the', '0', '1', '0', '10', '0', '0', '0', '0', '0', '0', 'div.div', 'attention'], ['extension', 'extension', '0', '0', '0', '5', '0', '0', '0', '0', '0', '0', 'div.div', 'attention'], ['number.', 'number.', '0', '0', '0', '0', '0', '0', '0', '0', '0', '0', 'div.div', 'attention']], [['Premios', 'premios', '0', '0', '0', '2', '0', '0', '0', '0', '1', '0', 'dt.dl', 'tile'], ['[Ver', '[ver', '0', '0', '0', '0', '0', '0', '0', '0', '0', '0', 'dt.dl', 'tile'], ['+]', '+]', '0', '0', '0', '0', '0', '0', '0', '0', '0', '0', 'dt.dl', 'tile']], [['Bede', 'bede', '1', '1', '2', '2', '0', '0', '0', '0', '1', '0', 'h2.div', 'node.node-associated-faculty.node-teaser.clearfix'], ['Liu', 'liu', '1', '1', '9', '6', '0', '0', '0', '0', '1', '0', 'h2.div', 'node.node-associated-faculty.node-teaser.clearfix']]]\n",
      "[[0, 0, 0, 0, 0, 0, 0, 0], [2, 2, 2, 0, 0, 0, 0, 0, 0, 0, 0, 0, 0], [0, 0, 0], [0, 0, 0], [0, 0, 0], [0], [2, 2, 0, 0, 0, 0, 0, 0], [0, 0, 0, 0, 0, 0, 0, 0, 0, 0, 0, 0, 0, 0, 0, 0], [0, 0, 0], [2, 2]]\n",
      "Elapsed time: 1.1420\n"
     ]
    }
   ],
   "source": [
    "import numpy as np\n",
    "import time\n",
    "import os\n",
    "import random\n",
    "import sys\n",
    "sys.path.insert(1, os.path.realpath(os.path.pardir))\n",
    "\n",
    "from optparse import OptionParser\n",
    "from pathlib import Path\n",
    "from model.hmm import HiddenMarkov, load_dataset\n",
    "\n",
    "def test_hmm(timesteps, dataset):\n",
    "    start_time = time.time()\n",
    "    naive_bayes = timesteps == 0\n",
    "    if naive_bayes:\n",
    "        timesteps = 1\n",
    "        \n",
    "    print('Fitting...')\n",
    "    X1, Y1, _ = load_dataset(dataset + '/train')\n",
    "    X2, Y2, _ = load_dataset(dataset + '/valid')\n",
    "    training_set = [x for x in zip(X1 + X2, Y1 + Y2)]\n",
    "\n",
    "    random.shuffle(training_set)\n",
    "    fold_size = len(training_set) // 5\n",
    "    \n",
    "    folds = []\n",
    "    for i in range(5):\n",
    "        start = i * fold_size\n",
    "        end = start + fold_size if (i < 4) else len(training_set)\n",
    "        folds.append(training_set[start:end])\n",
    "    print('Fold size:', fold_size)\n",
    "    \n",
    "    for f in folds:\n",
    "        map(list, zip(*f))\n",
    "        X, Y = [list(t) for t in zip(*f)]\n",
    "  \n",
    "        hmm = HiddenMarkov(1, naive_bayes=naive_bayes, use_features=True, self_train=True)\n",
    "        hmm.fit(X, Y)\n",
    "\n",
    "        for name in ['train', 'valid', 'test']:\n",
    "        print('Predicting ' + name)\n",
    "        x, t, w = load_raw_dataset('data/ner_on_html/' + name)\n",
    "        p = hmm.predict(x)\n",
    "\n",
    "        t = [[['O', 'B-PER', 'I-PER'][t__] for t__ in t_] for t_ in t]\n",
    "        p = [[['O', 'B-PER', 'I-PER'][p__] for p__ in p_] for p_ in p]\n",
    "\n",
    "        \"\"\"\n",
    "        with Path('results/score/{}.preds.txt'.format(name)).open('wb') as f:\n",
    "          for words, preds, tags in zip(w, p, t):\n",
    "            f.write(b'\\n')\n",
    "            for word, pred, tag in zip(words, preds, tags):\n",
    "              f.write(' '.join([word, tag, pred]).encode() + b'\\n')\n",
    "        \"\"\"\n",
    "    print('Elapsed time: %.4f' % (time.time() - start_time))\n",
    "    \n",
    "test_hmm(0, '../data/ner_on_html')\n",
    "\n",
    "# 'data/conll2003_person'"
   ]
  },
  {
   "cell_type": "code",
   "execution_count": null,
   "metadata": {},
   "outputs": [],
   "source": []
  }
 ],
 "metadata": {
  "kernelspec": {
   "display_name": "Python 3",
   "language": "python",
   "name": "python3"
  },
  "language_info": {
   "codemirror_mode": {
    "name": "ipython",
    "version": 3
   },
   "file_extension": ".py",
   "mimetype": "text/x-python",
   "name": "python",
   "nbconvert_exporter": "python",
   "pygments_lexer": "ipython3",
   "version": "3.6.3"
  }
 },
 "nbformat": 4,
 "nbformat_minor": 2
}
