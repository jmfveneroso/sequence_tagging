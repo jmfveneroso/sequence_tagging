{
 "cells": [
  {
   "cell_type": "code",
   "execution_count": 49,
   "metadata": {
    "scrolled": true
   },
   "outputs": [
    {
     "name": "stdout",
     "output_type": "stream",
     "text": [
      "the , . of in to a ( ) and\n",
      "\n",
      ", - ) ( : of and professor university research\n",
      "the & 12310 & , & 10439\n",
      ", & 10876 & - & 8140\n",
      ". & 10874 & ) & 3655\n",
      "of & 5502 & ( & 3641\n",
      "in & 5405 & : & 3484\n",
      "to & 5129 & of & 3345\n",
      "a & 4731 & and & 2499\n",
      "( & 4226 & professor & 2456\n",
      ") & 4225 & university & 1611\n",
      "and & 4223 & research & 1315\n",
      "\" & 3239 & science & 1053\n",
      "on & 3115 & & & 1046\n",
      "said & 2694 & computer & 1006\n",
      "'s & 2339 & e & 963\n",
      "for & 2109 & associate & 897\n",
      "- & 1866 & the & 863\n",
      "1 & 1845 & faculty & 849\n",
      "at & 1679 & assistant & 838\n",
      "was & 1593 & engineering & 773\n",
      "2 & 1342 & email & 749\n",
      "with & 1267 & in & 720\n",
      "3 & 1264 & prof. & 713\n",
      "0 & 1232 & dr. & 695\n",
      "that & 1212 & student & 668\n",
      "he & 1166 & for & 652\n",
      "from & 1146 & 7 & 626\n",
      "by & 1113 & mail & 602\n",
      "it & 1082 & dr & 593\n",
      ": & 1057 & information & 581\n",
      "is & 984 & ph.d. & 580\n",
      "4 & 973 & instructor & 569\n",
      "as & 920 & | & 553\n",
      "his & 867 & staff & 539\n",
      "had & 841 & office & 527\n",
      "were & 804 & department & 520\n",
      "an & 796 & room & 499\n",
      "but & 786 & campus & 492\n",
      "not & 786 & education & 490\n",
      "after & 780 & technology & 469\n",
      "has & 768 & / & 454\n",
      "be & 754 & systems & 446\n",
      "have & 738 & school & 444\n",
      "new & 656 & to & 429\n",
      "first & 645 & lecturer & 429\n",
      "who & 643 & profile & 422\n",
      "5 & 636 & center & 420\n",
      "will & 591 & a & 419\n",
      "6 & 584 & ; & 403\n",
      "two & 579 & services & 403\n",
      "they & 567 & program & 394\n"
     ]
    },
    {
     "data": {
      "image/png": "[encoded data removed]",
      "text/plain": [
       "<Figure size 432x288 with 1 Axes>"
      ]
     },
     "metadata": {
      "needs_background": "light"
     },
     "output_type": "display_data"
    }
   ],
   "source": [
    "%matplotlib inline\n",
    "import matplotlib\n",
    "import numpy as np\n",
    "import matplotlib.pyplot as plt\n",
    "from collections import Counter\n",
    "\n",
    "def plot_word_frequency(directory, color):\n",
    "    my_counter = Counter()\n",
    "    for fname in ['train', 'valid', 'test']:\n",
    "        with open(directory + '/' + fname) as f:\n",
    "            words = [line.strip().lower().split()[0] for line in f if len(line.strip()) > 0]\n",
    "            words = [w for w in words if w != '-docstart-']\n",
    "            my_counter.update(words)\n",
    "\n",
    "    data = [(key, my_counter[key]) for key in my_counter]    \n",
    "    data.sort(key=lambda x: x[1], reverse=True)\n",
    "    plt.plot([x[1] for x in data][:100], color)\n",
    "    return data[:50]\n",
    "    \n",
    "plt.title('Word frequencies')\n",
    "data1 = plot_word_frequency('../data/conll2003', 'r')\n",
    "data2 = plot_word_frequency('../data/ner_on_html', 'b')\n",
    "\n",
    "print(' '.join([d[0] for d in data1[:10]]))\n",
    "print()\n",
    "print(' '.join([d[0] for d in data2[:10]]))\n",
    "\n",
    "for d1, d2 in zip(data1, data2):\n",
    "    print('%s & %d & %s & %d' % (d1[0], d1[1], d2[0], d2[1]))   "
   ]
  },
  {
   "cell_type": "code",
   "execution_count": null,
   "metadata": {},
   "outputs": [],
   "source": [
    "burnin = len(samples)//2\n",
    "plt.hist(samples[burnin:], 40, histtype='step', normed=True, linewidth=1, label='Prior')\n",
    "plot_beta_distribution(alpha=h+a, beta=n-h+b)\n",
    "plt.show()"
   ]
  }
 ],
 "metadata": {
  "kernelspec": {
   "display_name": "Python 3",
   "language": "python",
   "name": "python3"
  },
  "language_info": {
   "codemirror_mode": {
    "name": "ipython",
    "version": 3
   },
   "file_extension": ".py",
   "mimetype": "text/x-python",
   "name": "python",
   "nbconvert_exporter": "python",
   "pygments_lexer": "ipython3",
   "version": "3.6.3"
  }
 },
 "nbformat": 4,
 "nbformat_minor": 2
}
