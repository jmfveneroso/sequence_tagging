{
 "cells": [
  {
   "cell_type": "code",
   "execution_count": 4,
   "metadata": {},
   "outputs": [
    {
     "name": "stdout",
     "output_type": "stream",
     "text": [
      "Found 35214 words.\n"
     ]
    }
   ],
   "source": [
    "from pathlib import Path\n",
    "\n",
    "DATADIR = \"data/nerhtml\"\n",
    "\n",
    "def get_sentences(filename):    \n",
    "    with Path(DATADIR, filename).open('r', encoding=\"utf-8\") as f:\n",
    "        sentences = f.read().strip().split('\\n\\n')\n",
    "        return [[t.split() for t in s.split('\\n')] for s in sentences if len(s) > 0] \n",
    "\n",
    "def extract_vocabulary(filenames):\n",
    "    if not isinstance(filenames, list):\n",
    "        filenames = [filenames]\n",
    "        \n",
    "    words = []\n",
    "    for f in filenames:\n",
    "        words = words + [w[0] for s in get_sentences(f) for w in s]\n",
    "    \n",
    "    words = list(set(words))\n",
    "    \n",
    "    with Path(DATADIR, 'vocab.words.txt').open('w', encoding='utf8') as f:\n",
    "        for w in words:\n",
    "            f.write(w + '\\n')\n",
    "\n",
    "    print('Found %d words.' % (len(words)))            \n",
    "extract_vocabulary(['train', 'valid', 'test'])"
   ]
  },
  {
   "cell_type": "code",
   "execution_count": null,
   "metadata": {
    "scrolled": true
   },
   "outputs": [
    {
     "name": "stdout",
     "output_type": "stream",
     "text": [
      "Reading GloVe file (may take a while)\n",
      "- At line 0\n",
      "- At line 100000\n",
      "- At line 200000\n",
      "- At line 300000\n",
      "- At line 400000\n",
      "- At line 500000\n",
      "- At line 600000\n",
      "- At line 700000\n",
      "- At line 800000\n",
      "- At line 900000\n",
      "- At line 1000000\n",
      "- At line 1100000\n"
     ]
    }
   ],
   "source": [
    "# -*- coding: utf-8 -*-\n",
    "\n",
    "LOWERCASE = False\n",
    "\n",
    "from pathlib import Path\n",
    "\n",
    "import numpy as np\n",
    "\n",
    "if __name__ == '__main__':\n",
    "  DATADIR = \"data\"\n",
    "    \n",
    "  # Load vocab.\n",
    "  with Path(DATADIR, 'conll2003/vocab.words.txt').open(encoding='utf-8') as f:\n",
    "    word_to_idx = {line.strip(): idx for idx, line in enumerate(f)}\n",
    "  size_vocab = len(word_to_idx)\n",
    "\n",
    "  word_to_lowercase = {}\n",
    "  for key in word_to_idx:\n",
    "    lkey = key.lower()\n",
    "    if not lkey in word_to_lowercase:\n",
    "      word_to_lowercase[lkey] = []\n",
    "    word_to_lowercase[lkey].append(word_to_idx[key])\n",
    "    \n",
    "  # Array of zeros\n",
    "  embeddings = np.zeros((size_vocab, 300))\n",
    "\n",
    "  # Get relevant glove vectors\n",
    "  found = 0\n",
    "  print('Reading GloVe file (may take a while)')\n",
    "  with open('data/glove.840B.300d.txt', encoding=\"utf-8\") as f:\n",
    "    for line_idx, line in enumerate(f):\n",
    "      if line_idx % 100000 == 0:\n",
    "        print('- At line {}'.format(line_idx))\n",
    "      line = line.strip().split()\n",
    "      if len(line) != 300 + 1:\n",
    "        continue\n",
    "      word = line[0]\n",
    "      embedding = line[1:]\n",
    "        \n",
    "      if LOWERCASE:\n",
    "        word = word.lower()\n",
    "        if word in word_to_lowercase:\n",
    "          for word_idx in word_to_lowercase[word]:\n",
    "            found += 1\n",
    "            embeddings[word_idx] = embedding\n",
    "      else:  \n",
    "        if word in word_to_idx:\n",
    "          found += 1\n",
    "          word_idx = word_to_idx[word]\n",
    "          embeddings[word_idx] = embedding\n",
    "  print('- done. Found {} vectors for {} words'.format(found, size_vocab))\n",
    "\n",
    "  ASHES = embeddings[22491]\n",
    "  ashes = embeddings[2500]\n",
    "  print(ASHES)\n",
    "  print(ashes)  \n",
    "\n",
    "  # Save np.array to file\n",
    "  np.savez_compressed(DATADIR + '/glove2.npz', embeddings=embeddings)"
   ]
  },
  {
   "cell_type": "code",
   "execution_count": 38,
   "metadata": {},
   "outputs": [
    {
     "name": "stdout",
     "output_type": "stream",
     "text": [
      "89\n",
      "Reading GloVe file (may take a while)\n",
      "- done. Found 89 vectors for 89 words\n"
     ]
    }
   ],
   "source": [
    "# -*- coding: utf-8 -*-\n",
    "\n",
    "LOWERCASE = False\n",
    "\n",
    "from pathlib import Path\n",
    "import re\n",
    "import numpy as np\n",
    "\n",
    "if __name__ == '__main__':\n",
    "  DATADIR = \"data\"\n",
    "    \n",
    "  # Load vocab.\n",
    "  with Path(DATADIR, 'conll2003/vocab.chars.txt').open(encoding='utf-8') as f:\n",
    "    char_to_idx = {line.strip(): idx for idx, line in enumerate(f)}\n",
    "  size_vocab = len(char_to_idx)\n",
    "  print(size_vocab)\n",
    "    \n",
    "  # Array of zeros\n",
    "  embeddings = np.zeros((size_vocab, 300))\n",
    "  # Get relevant glove vectors\n",
    "  found = 0\n",
    "  print('Reading GloVe file (may take a while)')\n",
    "  with open('data/char_embeddings.txt', encoding=\"utf-8\") as f:\n",
    "    for line_idx, line in enumerate(f):\n",
    "      line = line.strip().split()\n",
    "      if len(line) != 300 + 1:\n",
    "        continue  \n",
    "    \n",
    "      char = line[0]\n",
    "      embedding = line[1:]\n",
    "\n",
    "      if char in char_to_idx:\n",
    "        found += 1\n",
    "        char_idx = char_to_idx[char]\n",
    "        embeddings[char_idx] = embedding\n",
    "  print('- done. Found {} vectors for {} words'.format(found, size_vocab))\n",
    "\n",
    "  # Save np.array to file\n",
    "  np.savez_compressed(DATADIR + '/char_embeddings.npz', embeddings=embeddings)"
   ]
  },
  {
   "cell_type": "code",
   "execution_count": 75,
   "metadata": {},
   "outputs": [
    {
     "name": "stdout",
     "output_type": "stream",
     "text": [
      "[[  8.41470985e-01   5.40302306e-01   5.15138753e-01 ...,   9.99999942e-01\n",
      "    1.84784979e-04   9.99999983e-01]\n",
      " [  9.09297427e-01  -4.16146837e-01   8.83057855e-01 ...,   9.99999767e-01\n",
      "    3.69569951e-04   9.99999932e-01]\n",
      " [  1.41120008e-01  -9.89992497e-01   9.98611031e-01 ...,   9.99999475e-01\n",
      "    5.54354911e-04   9.99999846e-01]\n",
      " ..., \n",
      " [ -7.68254661e-01  -6.40144339e-01   7.46905556e-01 ...,   9.99865690e-01\n",
      "    8.86956273e-03   9.99960665e-01]\n",
      " [ -9.53752653e-01   3.00592544e-01   9.82709113e-01 ...,   9.99860035e-01\n",
      "    9.05434029e-03   9.99959009e-01]\n",
      " [ -2.62374854e-01   9.64966028e-01   9.37667769e-01 ...,   9.99854264e-01\n",
      "    9.23911754e-03   9.99957318e-01]]\n"
     ]
    },
    {
     "data": {
      "text/plain": [
       "array([[  8.41470985e-01,   5.40302306e-01,   5.15138753e-01, ...,\n",
       "          9.99999942e-01,   1.84784979e-04,   9.99999983e-01],\n",
       "       [  9.09297427e-01,  -4.16146837e-01,   8.83057855e-01, ...,\n",
       "          9.99999767e-01,   3.69569951e-04,   9.99999932e-01],\n",
       "       [  1.41120008e-01,  -9.89992497e-01,   9.98611031e-01, ...,\n",
       "          9.99999475e-01,   5.54354911e-04,   9.99999846e-01],\n",
       "       ..., \n",
       "       [ -7.68254661e-01,  -6.40144339e-01,   7.46905556e-01, ...,\n",
       "          9.99865690e-01,   8.86956273e-03,   9.99960665e-01],\n",
       "       [ -9.53752653e-01,   3.00592544e-01,   9.82709113e-01, ...,\n",
       "          9.99860035e-01,   9.05434029e-03,   9.99959009e-01],\n",
       "       [ -2.62374854e-01,   9.64966028e-01,   9.37667769e-01, ...,\n",
       "          9.99854264e-01,   9.23911754e-03,   9.99957318e-01]])"
      ]
     },
     "execution_count": 75,
     "metadata": {},
     "output_type": "execute_result"
    }
   ],
   "source": [
    "import tensorflow as tf\n",
    "\n",
    "def create_position_embeddings(self, max_length, emb_dim):\n",
    "    \n",
    "max_length=1600\n",
    "emb_dim=    \n",
    "position_emb = np.array([\n",
    "    [(pos+1) / np.power(10000, 2 * (j // 2) / emb_dim) for j in range(emb_dim)]\n",
    "    for pos in range(max_length)\n",
    "])\n",
    "\n",
    "position_emb[:,0::2] = np.sin(position_emb[:,0::2]) # dim 2i\n",
    "position_emb[:,1::2] = np.cos(position_emb[:,1::2]) # dim 2i+1\n",
    "position_emb = np.vstack([position_emb, [[0.] * emb_dim]])\n",
    "\n",
    "print(position_emb)\n",
    " \n",
    "    # variable = np.vstack([position_emb, [[0.] * emb_dim]])\n",
    "    # variable = tf.Variable(variable, dtype=tf.float32, trainable=False)\n",
    " \n",
    "    # seq = tf.constant(np.arange(1600), dtype=tf.int32)\n",
    "    # seq = tf.nn.embedding_lookup(variable, seq)\n",
    "    # pos_embeddings = tf.slice(seq, [0], [tf.shape(inputs)[1]])\n",
    "    # return inputs + pos_embeddings"
   ]
  },
  {
   "cell_type": "code",
   "execution_count": null,
   "metadata": {},
   "outputs": [],
   "source": []
  }
 ],
 "metadata": {
  "kernelspec": {
   "display_name": "Python 3",
   "language": "python",
   "name": "python3"
  },
  "language_info": {
   "codemirror_mode": {
    "name": "ipython",
    "version": 3
   },
   "file_extension": ".py",
   "mimetype": "text/x-python",
   "name": "python",
   "nbconvert_exporter": "python",
   "pygments_lexer": "ipython3",
   "version": "3.6.3"
  }
 },
 "nbformat": 4,
 "nbformat_minor": 2
}
