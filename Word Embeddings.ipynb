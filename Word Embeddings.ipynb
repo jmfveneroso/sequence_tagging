{
 "cells": [
  {
   "cell_type": "code",
   "execution_count": 4,
   "metadata": {},
   "outputs": [
    {
     "name": "stdout",
     "output_type": "stream",
     "text": [
      "Found 35214 words.\n"
     ]
    }
   ],
   "source": [
    "from pathlib import Path\n",
    "\n",
    "DATADIR = \"data/nerhtml\"\n",
    "\n",
    "def get_sentences(filename):    \n",
    "    with Path(DATADIR, filename).open('r', encoding=\"utf-8\") as f:\n",
    "        sentences = f.read().strip().split('\\n\\n')\n",
    "        return [[t.split() for t in s.split('\\n')] for s in sentences if len(s) > 0] \n",
    "\n",
    "def extract_vocabulary(filenames):\n",
    "    if not isinstance(filenames, list):\n",
    "        filenames = [filenames]\n",
    "        \n",
    "    words = []\n",
    "    for f in filenames:\n",
    "        words = words + [w[0] for s in get_sentences(f) for w in s]\n",
    "    \n",
    "    words = list(set(words))\n",
    "    \n",
    "    with Path(DATADIR, 'vocab.words.txt').open('w', encoding='utf8') as f:\n",
    "        for w in words:\n",
    "            f.write(w + '\\n')\n",
    "\n",
    "    print('Found %d words.' % (len(words)))            \n",
    "extract_vocabulary(['train', 'valid', 'test'])"
   ]
  },
  {
   "cell_type": "code",
   "execution_count": null,
   "metadata": {
    "scrolled": true
   },
   "outputs": [
    {
     "name": "stdout",
     "output_type": "stream",
     "text": [
      "Reading GloVe file (may take a while)\n",
      "- At line 0\n",
      "- At line 100000\n",
      "- At line 200000\n",
      "- At line 300000\n",
      "- At line 400000\n",
      "- At line 500000\n",
      "- At line 600000\n",
      "- At line 700000\n",
      "- At line 800000\n",
      "- At line 900000\n",
      "- At line 1000000\n",
      "- At line 1100000\n"
     ]
    }
   ],
   "source": [
    "# -*- coding: utf-8 -*-\n",
    "\n",
    "LOWERCASE = False\n",
    "\n",
    "from pathlib import Path\n",
    "\n",
    "import numpy as np\n",
    "\n",
    "if __name__ == '__main__':\n",
    "  DATADIR = \"data\"\n",
    "    \n",
    "  # Load vocab.\n",
    "  with Path(DATADIR, 'conll2003/vocab.words.txt').open(encoding='utf-8') as f:\n",
    "    word_to_idx = {line.strip(): idx for idx, line in enumerate(f)}\n",
    "  size_vocab = len(word_to_idx)\n",
    "\n",
    "  word_to_lowercase = {}\n",
    "  for key in word_to_idx:\n",
    "    lkey = key.lower()\n",
    "    if not lkey in word_to_lowercase:\n",
    "      word_to_lowercase[lkey] = []\n",
    "    word_to_lowercase[lkey].append(word_to_idx[key])\n",
    "    \n",
    "  # Array of zeros\n",
    "  embeddings = np.zeros((size_vocab, 300))\n",
    "\n",
    "  # Get relevant glove vectors\n",
    "  found = 0\n",
    "  print('Reading GloVe file (may take a while)')\n",
    "  with open('data/glove.840B.300d.txt', encoding=\"utf-8\") as f:\n",
    "    for line_idx, line in enumerate(f):\n",
    "      if line_idx % 100000 == 0:\n",
    "        print('- At line {}'.format(line_idx))\n",
    "      line = line.strip().split()\n",
    "      if len(line) != 300 + 1:\n",
    "        continue\n",
    "      word = line[0]\n",
    "      embedding = line[1:]\n",
    "        \n",
    "      if LOWERCASE:\n",
    "        word = word.lower()\n",
    "        if word in word_to_lowercase:\n",
    "          for word_idx in word_to_lowercase[word]:\n",
    "            found += 1\n",
    "            embeddings[word_idx] = embedding\n",
    "      else:  \n",
    "        if word in word_to_idx:\n",
    "          found += 1\n",
    "          word_idx = word_to_idx[word]\n",
    "          embeddings[word_idx] = embedding\n",
    "  print('- done. Found {} vectors for {} words'.format(found, size_vocab))\n",
    "\n",
    "  ASHES = embeddings[22491]\n",
    "  ashes = embeddings[2500]\n",
    "  print(ASHES)\n",
    "  print(ashes)  \n",
    "\n",
    "  # Save np.array to file\n",
    "  np.savez_compressed(DATADIR + '/glove2.npz', embeddings=embeddings)"
   ]
  },
  {
   "cell_type": "code",
   "execution_count": 38,
   "metadata": {},
   "outputs": [
    {
     "name": "stdout",
     "output_type": "stream",
     "text": [
      "89\n",
      "Reading GloVe file (may take a while)\n",
      "- done. Found 89 vectors for 89 words\n"
     ]
    }
   ],
   "source": [
    "# -*- coding: utf-8 -*-\n",
    "\n",
    "LOWERCASE = False\n",
    "\n",
    "from pathlib import Path\n",
    "import re\n",
    "import numpy as np\n",
    "\n",
    "if __name__ == '__main__':\n",
    "  DATADIR = \"data\"\n",
    "    \n",
    "  # Load vocab.\n",
    "  with Path(DATADIR, 'conll2003/vocab.chars.txt').open(encoding='utf-8') as f:\n",
    "    char_to_idx = {line.strip(): idx for idx, line in enumerate(f)}\n",
    "  size_vocab = len(char_to_idx)\n",
    "  print(size_vocab)\n",
    "    \n",
    "  # Array of zeros\n",
    "  embeddings = np.zeros((size_vocab, 300))\n",
    "  # Get relevant glove vectors\n",
    "  found = 0\n",
    "  print('Reading GloVe file (may take a while)')\n",
    "  with open('data/char_embeddings.txt', encoding=\"utf-8\") as f:\n",
    "    for line_idx, line in enumerate(f):\n",
    "      line = line.strip().split()\n",
    "      if len(line) != 300 + 1:\n",
    "        continue  \n",
    "    \n",
    "      char = line[0]\n",
    "      embedding = line[1:]\n",
    "\n",
    "      if char in char_to_idx:\n",
    "        found += 1\n",
    "        char_idx = char_to_idx[char]\n",
    "        embeddings[char_idx] = embedding\n",
    "  print('- done. Found {} vectors for {} words'.format(found, size_vocab))\n",
    "\n",
    "  # Save np.array to file\n",
    "  np.savez_compressed(DATADIR + '/char_embeddings.npz', embeddings=embeddings)"
   ]
  },
  {
   "cell_type": "code",
   "execution_count": null,
   "metadata": {},
   "outputs": [],
   "source": []
  }
 ],
 "metadata": {
  "kernelspec": {
   "display_name": "Python 3",
   "language": "python",
   "name": "python3"
  },
  "language_info": {
   "codemirror_mode": {
    "name": "ipython",
    "version": 3
   },
   "file_extension": ".py",
   "mimetype": "text/x-python",
   "name": "python",
   "nbconvert_exporter": "python",
   "pygments_lexer": "ipython3",
   "version": "3.6.3"
  }
 },
 "nbformat": 4,
 "nbformat_minor": 2
}
