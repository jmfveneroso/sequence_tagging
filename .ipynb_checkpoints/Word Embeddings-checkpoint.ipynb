{
 "cells": [
  {
   "cell_type": "code",
   "execution_count": null,
   "metadata": {},
   "outputs": [],
   "source": [
    "DATADIR = \"data/nerhtml\"\n",
    "\n",
    "def get_sentences(filename):    \n",
    "    with Path(DATADIR, filename).open('r', encoding=\"utf-8\") as f:\n",
    "        sentences = f.read().strip().split('\\n\\n')\n",
    "        return [[t.split() for t in s.split('\\n')] for s in sentences if len(s) > 0] \n",
    "\n",
    "def extract_vocabulary(filenames):\n",
    "    if not isinstance(filenames, list):\n",
    "        filenames = [filenames]\n",
    "        \n",
    "    words = []\n",
    "    for f in filenames:\n",
    "        words = words + [w[0] for s in get_sentences(f) for w in s]\n",
    "    \n",
    "    words = list(set(words))\n",
    "    \n",
    "    with Path(DATADIR, 'vocab.words.txt').open('w', encoding='utf8') as f:\n",
    "        for w in words:\n",
    "            f.write(w + '\\n')\n",
    "               \n",
    "extract_vocabulary(['train', 'valid', 'test'])"
   ]
  },
  {
   "cell_type": "code",
   "execution_count": 3,
   "metadata": {},
   "outputs": [
    {
     "name": "stdout",
     "output_type": "stream",
     "text": [
      "Reading GloVe file (may take a while)\n",
      "- At line 0\n",
      "- At line 100000\n",
      "- At line 200000\n",
      "- At line 300000\n",
      "- At line 400000\n",
      "- At line 500000\n",
      "- At line 600000\n",
      "- At line 700000\n",
      "- At line 800000\n",
      "- At line 900000\n",
      "- At line 1000000\n",
      "- At line 1100000\n",
      "- At line 1200000\n",
      "- At line 1300000\n",
      "- At line 1400000\n",
      "- At line 1500000\n",
      "- At line 1600000\n",
      "- At line 1700000\n",
      "- At line 1800000\n",
      "- At line 1900000\n",
      "- At line 2000000\n",
      "- At line 2100000\n",
      "- done. Found 26890 vectors for 30290 words\n"
     ]
    }
   ],
   "source": [
    "from pathlib import Path\n",
    "\n",
    "import numpy as np\n",
    "\n",
    "if __name__ == '__main__':\n",
    "  DATADIR = \"data/conll2003\"\n",
    "    \n",
    "  # Load vocab.\n",
    "  with Path(DATADIR, 'vocab.words.txt').open() as f:\n",
    "    word_to_idx = {line.strip(): idx for idx, line in enumerate(f)}\n",
    "  size_vocab = len(word_to_idx)\n",
    "\n",
    "  # Array of zeros\n",
    "  embeddings = np.zeros((size_vocab, 300))\n",
    "\n",
    "  # Get relevant glove vectors\n",
    "  found = 0\n",
    "  print('Reading GloVe file (may take a while)')\n",
    "  with open('data/glove.840B.300d.txt', encoding=\"utf-8\") as f:\n",
    "    for line_idx, line in enumerate(f):\n",
    "      if line_idx % 100000 == 0:\n",
    "        print('- At line {}'.format(line_idx))\n",
    "      line = line.strip().split()\n",
    "      if len(line) != 300 + 1:\n",
    "        continue\n",
    "      word = line[0]\n",
    "      embedding = line[1:]\n",
    "      if word in word_to_idx:\n",
    "        found += 1\n",
    "        word_idx = word_to_idx[word]\n",
    "        embeddings[word_idx] = embedding\n",
    "  print('- done. Found {} vectors for {} words'.format(found, size_vocab))\n",
    "\n",
    "  # Save np.array to file\n",
    "  np.savez_compressed(DATADIR + '/glove.npz', embeddings=embeddings)"
   ]
  }
 ],
 "metadata": {
  "kernelspec": {
   "display_name": "Python 3",
   "language": "python",
   "name": "python3"
  },
  "language_info": {
   "codemirror_mode": {
    "name": "ipython",
    "version": 3
   },
   "file_extension": ".py",
   "mimetype": "text/x-python",
   "name": "python",
   "nbconvert_exporter": "python",
   "pygments_lexer": "ipython3",
   "version": "3.5.2"
  }
 },
 "nbformat": 4,
 "nbformat_minor": 2
}
